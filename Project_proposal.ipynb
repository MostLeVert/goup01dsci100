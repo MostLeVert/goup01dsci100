{
 "cells": [
  {
   "cell_type": "markdown",
   "id": "a19854b9-9df2-4ad4-a4ee-4b87f1703552",
   "metadata": {},
   "source": [
    "# Project Proposal - Wine Quality Classification\n",
    "## DSCI100 - 005 - Group 2\n",
    "##### Names: Sean Dempsey, enter names"
   ]
  },
  {
   "cell_type": "markdown",
   "id": "4e57d7e9-3379-4eb2-8668-2743823d01e8",
   "metadata": {},
   "source": [
    "## Introduction\n",
    "- Provide relevant background on topic, state predictive question, and describe dataset\n",
    "- I started this - there may be too much detail - not sure if the list of variables is necessary\n",
    "\n",
    "Wine quality and flavour is a complex topic, and results can be influenced by a multitude of external factors, including the grape variety, climatic conditions of growth, and geographic location (Basalekou et al., 2023). These qualitative factors help to influence the quantitative chemical and physical properties of the wine, such as the acidity, denisty, and sulphite concentration, among many others. In this project, we hope to use these quantitative elements to classify wines onto a ten point quality scale. To be more specific, we want to know what quantitative wine qualities, such as those mentioned above, can be used to accurately predict the quality of the wine. The dataset being used is the \"Wine Quality Dataset\" from Kaggle (https://www.kaggle.com/datasets/yasserh/wine-quality-dataset). The dataset focuses on a specific type of red wine called \"Vinho Verde\", which originates from Portugal. Considering only one region makes classification simpler, since geographic location and climate don't have to be factored in to the equation. This dataset contains over 1100 observations of different wines in the region, and the variables describe the chemical and physical properties of the wine. The dataset has many variables, and it is likely that not all will be useful for predicting the wine quality. As such, the aim of this project is to determine the best predicting variables for wine quality from this dataset."
   ]
  },
  {
   "cell_type": "markdown",
   "id": "a4717df4-41a3-4c44-b2de-c2f3fcf9d70b",
   "metadata": {},
   "source": [
    "## Preliminary Exploraty Analysis\n",
    "- Read in data\n",
    "- Clean and wrangle (should be already pretty clean)\n",
    "- Split into training and testing (remember to set seed)\n",
    "- use training data to summarize the data in **at least** one table\n",
    "- Use training data to summarize the data in **at least** one plot"
   ]
  },
  {
   "cell_type": "markdown",
   "id": "fa0d6eb1-66a0-416b-9253-81519cdfbdca",
   "metadata": {},
   "source": [
    "#### 1. Read in data and load libraries"
   ]
  },
  {
   "cell_type": "code",
   "execution_count": 3,
   "id": "5d734357-4eea-46a7-be54-7e3235261d87",
   "metadata": {},
   "outputs": [
    {
     "name": "stderr",
     "output_type": "stream",
     "text": [
      "── \u001b[1mAttaching core tidyverse packages\u001b[22m ──────────────────────── tidyverse 2.0.0 ──\n",
      "\u001b[32m✔\u001b[39m \u001b[34mdplyr    \u001b[39m 1.1.3     \u001b[32m✔\u001b[39m \u001b[34mreadr    \u001b[39m 2.1.4\n",
      "\u001b[32m✔\u001b[39m \u001b[34mforcats  \u001b[39m 1.0.0     \u001b[32m✔\u001b[39m \u001b[34mstringr  \u001b[39m 1.5.0\n",
      "\u001b[32m✔\u001b[39m \u001b[34mggplot2  \u001b[39m 3.4.4     \u001b[32m✔\u001b[39m \u001b[34mtibble   \u001b[39m 3.2.1\n",
      "\u001b[32m✔\u001b[39m \u001b[34mlubridate\u001b[39m 1.9.3     \u001b[32m✔\u001b[39m \u001b[34mtidyr    \u001b[39m 1.3.0\n",
      "\u001b[32m✔\u001b[39m \u001b[34mpurrr    \u001b[39m 1.0.2     \n",
      "── \u001b[1mConflicts\u001b[22m ────────────────────────────────────────── tidyverse_conflicts() ──\n",
      "\u001b[31m✖\u001b[39m \u001b[34mdplyr\u001b[39m::\u001b[32mfilter()\u001b[39m masks \u001b[34mstats\u001b[39m::filter()\n",
      "\u001b[31m✖\u001b[39m \u001b[34mdplyr\u001b[39m::\u001b[32mlag()\u001b[39m    masks \u001b[34mstats\u001b[39m::lag()\n",
      "\u001b[36mℹ\u001b[39m Use the conflicted package (\u001b[3m\u001b[34m<http://conflicted.r-lib.org/>\u001b[39m\u001b[23m) to force all conflicts to become errors\n",
      "── \u001b[1mAttaching packages\u001b[22m ────────────────────────────────────── tidymodels 1.1.1 ──\n",
      "\n",
      "\u001b[32m✔\u001b[39m \u001b[34mbroom       \u001b[39m 1.0.5     \u001b[32m✔\u001b[39m \u001b[34mrsample     \u001b[39m 1.2.0\n",
      "\u001b[32m✔\u001b[39m \u001b[34mdials       \u001b[39m 1.2.0     \u001b[32m✔\u001b[39m \u001b[34mtune        \u001b[39m 1.1.2\n",
      "\u001b[32m✔\u001b[39m \u001b[34minfer       \u001b[39m 1.0.5     \u001b[32m✔\u001b[39m \u001b[34mworkflows   \u001b[39m 1.1.3\n",
      "\u001b[32m✔\u001b[39m \u001b[34mmodeldata   \u001b[39m 1.2.0     \u001b[32m✔\u001b[39m \u001b[34mworkflowsets\u001b[39m 1.0.1\n",
      "\u001b[32m✔\u001b[39m \u001b[34mparsnip     \u001b[39m 1.1.1     \u001b[32m✔\u001b[39m \u001b[34myardstick   \u001b[39m 1.2.0\n",
      "\u001b[32m✔\u001b[39m \u001b[34mrecipes     \u001b[39m 1.0.8     \n",
      "\n",
      "── \u001b[1mConflicts\u001b[22m ───────────────────────────────────────── tidymodels_conflicts() ──\n",
      "\u001b[31m✖\u001b[39m \u001b[34mscales\u001b[39m::\u001b[32mdiscard()\u001b[39m masks \u001b[34mpurrr\u001b[39m::discard()\n",
      "\u001b[31m✖\u001b[39m \u001b[34mdplyr\u001b[39m::\u001b[32mfilter()\u001b[39m   masks \u001b[34mstats\u001b[39m::filter()\n",
      "\u001b[31m✖\u001b[39m \u001b[34mrecipes\u001b[39m::\u001b[32mfixed()\u001b[39m  masks \u001b[34mstringr\u001b[39m::fixed()\n",
      "\u001b[31m✖\u001b[39m \u001b[34mdplyr\u001b[39m::\u001b[32mlag()\u001b[39m      masks \u001b[34mstats\u001b[39m::lag()\n",
      "\u001b[31m✖\u001b[39m \u001b[34myardstick\u001b[39m::\u001b[32mspec()\u001b[39m masks \u001b[34mreadr\u001b[39m::spec()\n",
      "\u001b[31m✖\u001b[39m \u001b[34mrecipes\u001b[39m::\u001b[32mstep()\u001b[39m   masks \u001b[34mstats\u001b[39m::step()\n",
      "\u001b[34m•\u001b[39m Search for functions across packages at \u001b[32mhttps://www.tidymodels.org/find/\u001b[39m\n",
      "\n",
      "\n",
      "Attaching package: ‘janitor’\n",
      "\n",
      "\n",
      "The following objects are masked from ‘package:stats’:\n",
      "\n",
      "    chisq.test, fisher.test\n",
      "\n",
      "\n"
     ]
    }
   ],
   "source": [
    "library(tidyverse)\n",
    "library(tidymodels)\n",
    "library(janitor)\n",
    "library(repr)"
   ]
  },
  {
   "cell_type": "code",
   "execution_count": 4,
   "id": "8f401461-9995-4090-89fb-9c731caa979b",
   "metadata": {},
   "outputs": [
    {
     "name": "stderr",
     "output_type": "stream",
     "text": [
      "\u001b[1mRows: \u001b[22m\u001b[34m1143\u001b[39m \u001b[1mColumns: \u001b[22m\u001b[34m13\u001b[39m\n",
      "\u001b[36m──\u001b[39m \u001b[1mColumn specification\u001b[22m \u001b[36m────────────────────────────────────────────────────────\u001b[39m\n",
      "\u001b[1mDelimiter:\u001b[22m \",\"\n",
      "\u001b[32mdbl\u001b[39m (13): fixed acidity, volatile acidity, citric acid, residual sugar, chlo...\n",
      "\n",
      "\u001b[36mℹ\u001b[39m Use `spec()` to retrieve the full column specification for this data.\n",
      "\u001b[36mℹ\u001b[39m Specify the column types or set `show_col_types = FALSE` to quiet this message.\n"
     ]
    },
    {
     "data": {
      "text/html": [
       "<table class=\"dataframe\">\n",
       "<caption>A spec_tbl_df: 1143 × 13</caption>\n",
       "<thead>\n",
       "\t<tr><th scope=col>fixed_acidity</th><th scope=col>volatile_acidity</th><th scope=col>citric_acid</th><th scope=col>residual_sugar</th><th scope=col>chlorides</th><th scope=col>free_sulfur_dioxide</th><th scope=col>total_sulfur_dioxide</th><th scope=col>density</th><th scope=col>p_h</th><th scope=col>sulphates</th><th scope=col>alcohol</th><th scope=col>quality</th><th scope=col>id</th></tr>\n",
       "\t<tr><th scope=col>&lt;dbl&gt;</th><th scope=col>&lt;dbl&gt;</th><th scope=col>&lt;dbl&gt;</th><th scope=col>&lt;dbl&gt;</th><th scope=col>&lt;dbl&gt;</th><th scope=col>&lt;dbl&gt;</th><th scope=col>&lt;dbl&gt;</th><th scope=col>&lt;dbl&gt;</th><th scope=col>&lt;dbl&gt;</th><th scope=col>&lt;dbl&gt;</th><th scope=col>&lt;dbl&gt;</th><th scope=col>&lt;dbl&gt;</th><th scope=col>&lt;dbl&gt;</th></tr>\n",
       "</thead>\n",
       "<tbody>\n",
       "\t<tr><td> 7.4</td><td>0.70</td><td>0.00</td><td>1.9</td><td>0.076</td><td>11</td><td>34</td><td>0.9978</td><td>3.51</td><td>0.56</td><td>9.4</td><td>5</td><td>0</td></tr>\n",
       "\t<tr><td> 7.8</td><td>0.88</td><td>0.00</td><td>2.6</td><td>0.098</td><td>25</td><td>67</td><td>0.9968</td><td>3.20</td><td>0.68</td><td>9.8</td><td>5</td><td>1</td></tr>\n",
       "\t<tr><td> 7.8</td><td>0.76</td><td>0.04</td><td>2.3</td><td>0.092</td><td>15</td><td>54</td><td>0.9970</td><td>3.26</td><td>0.65</td><td>9.8</td><td>5</td><td>2</td></tr>\n",
       "\t<tr><td>11.2</td><td>0.28</td><td>0.56</td><td>1.9</td><td>0.075</td><td>17</td><td>60</td><td>0.9980</td><td>3.16</td><td>0.58</td><td>9.8</td><td>6</td><td>3</td></tr>\n",
       "\t<tr><td> 7.4</td><td>0.70</td><td>0.00</td><td>1.9</td><td>0.076</td><td>11</td><td>34</td><td>0.9978</td><td>3.51</td><td>0.56</td><td>9.4</td><td>5</td><td>4</td></tr>\n",
       "\t<tr><td>⋮</td><td>⋮</td><td>⋮</td><td>⋮</td><td>⋮</td><td>⋮</td><td>⋮</td><td>⋮</td><td>⋮</td><td>⋮</td><td>⋮</td><td>⋮</td><td>⋮</td></tr>\n",
       "\t<tr><td>6.8</td><td>0.620</td><td>0.08</td><td>1.9</td><td>0.068</td><td>28</td><td>38</td><td>0.99651</td><td>3.42</td><td>0.82</td><td> 9.5</td><td>6</td><td>1593</td></tr>\n",
       "\t<tr><td>6.2</td><td>0.600</td><td>0.08</td><td>2.0</td><td>0.090</td><td>32</td><td>44</td><td>0.99490</td><td>3.45</td><td>0.58</td><td>10.5</td><td>5</td><td>1594</td></tr>\n",
       "\t<tr><td>5.9</td><td>0.550</td><td>0.10</td><td>2.2</td><td>0.062</td><td>39</td><td>51</td><td>0.99512</td><td>3.52</td><td>0.76</td><td>11.2</td><td>6</td><td>1595</td></tr>\n",
       "\t<tr><td>5.9</td><td>0.645</td><td>0.12</td><td>2.0</td><td>0.075</td><td>32</td><td>44</td><td>0.99547</td><td>3.57</td><td>0.71</td><td>10.2</td><td>5</td><td>1597</td></tr>\n",
       "</tbody>\n",
       "</table>\n"
      ],
      "text/latex": [
       "A spec\\_tbl\\_df: 1143 × 13\n",
       "\\begin{tabular}{lllllllllllll}\n",
       " fixed\\_acidity & volatile\\_acidity & citric\\_acid & residual\\_sugar & chlorides & free\\_sulfur\\_dioxide & total\\_sulfur\\_dioxide & density & p\\_h & sulphates & alcohol & quality & id\\\\\n",
       " <dbl> & <dbl> & <dbl> & <dbl> & <dbl> & <dbl> & <dbl> & <dbl> & <dbl> & <dbl> & <dbl> & <dbl> & <dbl>\\\\\n",
       "\\hline\n",
       "\t  7.4 & 0.70 & 0.00 & 1.9 & 0.076 & 11 & 34 & 0.9978 & 3.51 & 0.56 & 9.4 & 5 & 0\\\\\n",
       "\t  7.8 & 0.88 & 0.00 & 2.6 & 0.098 & 25 & 67 & 0.9968 & 3.20 & 0.68 & 9.8 & 5 & 1\\\\\n",
       "\t  7.8 & 0.76 & 0.04 & 2.3 & 0.092 & 15 & 54 & 0.9970 & 3.26 & 0.65 & 9.8 & 5 & 2\\\\\n",
       "\t 11.2 & 0.28 & 0.56 & 1.9 & 0.075 & 17 & 60 & 0.9980 & 3.16 & 0.58 & 9.8 & 6 & 3\\\\\n",
       "\t  7.4 & 0.70 & 0.00 & 1.9 & 0.076 & 11 & 34 & 0.9978 & 3.51 & 0.56 & 9.4 & 5 & 4\\\\\n",
       "\t ⋮ & ⋮ & ⋮ & ⋮ & ⋮ & ⋮ & ⋮ & ⋮ & ⋮ & ⋮ & ⋮ & ⋮ & ⋮\\\\\n",
       "\t 6.8 & 0.620 & 0.08 & 1.9 & 0.068 & 28 & 38 & 0.99651 & 3.42 & 0.82 &  9.5 & 6 & 1593\\\\\n",
       "\t 6.2 & 0.600 & 0.08 & 2.0 & 0.090 & 32 & 44 & 0.99490 & 3.45 & 0.58 & 10.5 & 5 & 1594\\\\\n",
       "\t 5.9 & 0.550 & 0.10 & 2.2 & 0.062 & 39 & 51 & 0.99512 & 3.52 & 0.76 & 11.2 & 6 & 1595\\\\\n",
       "\t 5.9 & 0.645 & 0.12 & 2.0 & 0.075 & 32 & 44 & 0.99547 & 3.57 & 0.71 & 10.2 & 5 & 1597\\\\\n",
       "\\end{tabular}\n"
      ],
      "text/markdown": [
       "\n",
       "A spec_tbl_df: 1143 × 13\n",
       "\n",
       "| fixed_acidity &lt;dbl&gt; | volatile_acidity &lt;dbl&gt; | citric_acid &lt;dbl&gt; | residual_sugar &lt;dbl&gt; | chlorides &lt;dbl&gt; | free_sulfur_dioxide &lt;dbl&gt; | total_sulfur_dioxide &lt;dbl&gt; | density &lt;dbl&gt; | p_h &lt;dbl&gt; | sulphates &lt;dbl&gt; | alcohol &lt;dbl&gt; | quality &lt;dbl&gt; | id &lt;dbl&gt; |\n",
       "|---|---|---|---|---|---|---|---|---|---|---|---|---|\n",
       "|  7.4 | 0.70 | 0.00 | 1.9 | 0.076 | 11 | 34 | 0.9978 | 3.51 | 0.56 | 9.4 | 5 | 0 |\n",
       "|  7.8 | 0.88 | 0.00 | 2.6 | 0.098 | 25 | 67 | 0.9968 | 3.20 | 0.68 | 9.8 | 5 | 1 |\n",
       "|  7.8 | 0.76 | 0.04 | 2.3 | 0.092 | 15 | 54 | 0.9970 | 3.26 | 0.65 | 9.8 | 5 | 2 |\n",
       "| 11.2 | 0.28 | 0.56 | 1.9 | 0.075 | 17 | 60 | 0.9980 | 3.16 | 0.58 | 9.8 | 6 | 3 |\n",
       "|  7.4 | 0.70 | 0.00 | 1.9 | 0.076 | 11 | 34 | 0.9978 | 3.51 | 0.56 | 9.4 | 5 | 4 |\n",
       "| ⋮ | ⋮ | ⋮ | ⋮ | ⋮ | ⋮ | ⋮ | ⋮ | ⋮ | ⋮ | ⋮ | ⋮ | ⋮ |\n",
       "| 6.8 | 0.620 | 0.08 | 1.9 | 0.068 | 28 | 38 | 0.99651 | 3.42 | 0.82 |  9.5 | 6 | 1593 |\n",
       "| 6.2 | 0.600 | 0.08 | 2.0 | 0.090 | 32 | 44 | 0.99490 | 3.45 | 0.58 | 10.5 | 5 | 1594 |\n",
       "| 5.9 | 0.550 | 0.10 | 2.2 | 0.062 | 39 | 51 | 0.99512 | 3.52 | 0.76 | 11.2 | 6 | 1595 |\n",
       "| 5.9 | 0.645 | 0.12 | 2.0 | 0.075 | 32 | 44 | 0.99547 | 3.57 | 0.71 | 10.2 | 5 | 1597 |\n",
       "\n"
      ],
      "text/plain": [
       "     fixed_acidity volatile_acidity citric_acid residual_sugar chlorides\n",
       "1     7.4          0.70             0.00        1.9            0.076    \n",
       "2     7.8          0.88             0.00        2.6            0.098    \n",
       "3     7.8          0.76             0.04        2.3            0.092    \n",
       "4    11.2          0.28             0.56        1.9            0.075    \n",
       "5     7.4          0.70             0.00        1.9            0.076    \n",
       "⋮    ⋮             ⋮                ⋮           ⋮              ⋮        \n",
       "1140 6.8           0.620            0.08        1.9            0.068    \n",
       "1141 6.2           0.600            0.08        2.0            0.090    \n",
       "1142 5.9           0.550            0.10        2.2            0.062    \n",
       "1143 5.9           0.645            0.12        2.0            0.075    \n",
       "     free_sulfur_dioxide total_sulfur_dioxide density p_h  sulphates alcohol\n",
       "1    11                  34                   0.9978  3.51 0.56      9.4    \n",
       "2    25                  67                   0.9968  3.20 0.68      9.8    \n",
       "3    15                  54                   0.9970  3.26 0.65      9.8    \n",
       "4    17                  60                   0.9980  3.16 0.58      9.8    \n",
       "5    11                  34                   0.9978  3.51 0.56      9.4    \n",
       "⋮    ⋮                   ⋮                    ⋮       ⋮    ⋮         ⋮      \n",
       "1140 28                  38                   0.99651 3.42 0.82       9.5   \n",
       "1141 32                  44                   0.99490 3.45 0.58      10.5   \n",
       "1142 39                  51                   0.99512 3.52 0.76      11.2   \n",
       "1143 32                  44                   0.99547 3.57 0.71      10.2   \n",
       "     quality id  \n",
       "1    5       0   \n",
       "2    5       1   \n",
       "3    5       2   \n",
       "4    6       3   \n",
       "5    5       4   \n",
       "⋮    ⋮       ⋮   \n",
       "1140 6       1593\n",
       "1141 5       1594\n",
       "1142 6       1595\n",
       "1143 5       1597"
      ]
     },
     "metadata": {},
     "output_type": "display_data"
    }
   ],
   "source": [
    "options(repr.matrix.max.rows = 9)\n",
    "wine_data_raw <- read_csv(\"https://raw.githubusercontent.com/MostLeVert/goup01dsci100/main/WineQT.csv\") |>\n",
    "    clean_names()\n",
    "wine_data_raw"
   ]
  },
  {
   "cell_type": "markdown",
   "id": "9f656aad-74b4-4f55-944e-16dc5a4785e0",
   "metadata": {},
   "source": [
    "#### 2. Clean and wrangle data"
   ]
  },
  {
   "cell_type": "code",
   "execution_count": 5,
   "id": "cb6b316a-fc19-43e8-90a4-482ab6f1615e",
   "metadata": {},
   "outputs": [],
   "source": [
    "wine_data <- wine_data_raw |>\n",
    "    mutate(quality = as_factor(quality))"
   ]
  },
  {
   "cell_type": "markdown",
   "id": "a60e7df4-b6e5-4743-9595-f3f785dc1b8e",
   "metadata": {},
   "source": [
    "#### 3. Split into training and testing sets"
   ]
  },
  {
   "cell_type": "code",
   "execution_count": 6,
   "id": "85a226fd-fde8-423f-af07-86df5d30ab26",
   "metadata": {},
   "outputs": [],
   "source": [
    "set.seed(25)\n",
    "wine_split <- initial_split(wine_data, prop = 0.75, strata = quality) # ensure that quality values are even between sets\n",
    "wine_test <- testing(wine_split)\n",
    "wine_train <- training(wine_split)"
   ]
  },
  {
   "cell_type": "markdown",
   "id": "dfb23728-8e30-4b58-b000-0261774b1df1",
   "metadata": {},
   "source": [
    "#### 4. Analysis (using only training data)"
   ]
  },
  {
   "cell_type": "code",
   "execution_count": 7,
   "id": "72b7cf78-744b-4f4c-a6ae-d01a1c5d1f73",
   "metadata": {},
   "outputs": [
    {
     "data": {
      "text/html": [
       "<table class=\"dataframe\">\n",
       "<caption>A tibble: 6 × 2</caption>\n",
       "<thead>\n",
       "\t<tr><th scope=col>quality</th><th scope=col>count</th></tr>\n",
       "\t<tr><th scope=col>&lt;fct&gt;</th><th scope=col>&lt;int&gt;</th></tr>\n",
       "</thead>\n",
       "<tbody>\n",
       "\t<tr><td>3</td><td>  5</td></tr>\n",
       "\t<tr><td>4</td><td> 22</td></tr>\n",
       "\t<tr><td>5</td><td>367</td></tr>\n",
       "\t<tr><td>6</td><td>345</td></tr>\n",
       "\t<tr><td>7</td><td>108</td></tr>\n",
       "\t<tr><td>8</td><td>  9</td></tr>\n",
       "</tbody>\n",
       "</table>\n"
      ],
      "text/latex": [
       "A tibble: 6 × 2\n",
       "\\begin{tabular}{ll}\n",
       " quality & count\\\\\n",
       " <fct> & <int>\\\\\n",
       "\\hline\n",
       "\t 3 &   5\\\\\n",
       "\t 4 &  22\\\\\n",
       "\t 5 & 367\\\\\n",
       "\t 6 & 345\\\\\n",
       "\t 7 & 108\\\\\n",
       "\t 8 &   9\\\\\n",
       "\\end{tabular}\n"
      ],
      "text/markdown": [
       "\n",
       "A tibble: 6 × 2\n",
       "\n",
       "| quality &lt;fct&gt; | count &lt;int&gt; |\n",
       "|---|---|\n",
       "| 3 |   5 |\n",
       "| 4 |  22 |\n",
       "| 5 | 367 |\n",
       "| 6 | 345 |\n",
       "| 7 | 108 |\n",
       "| 8 |   9 |\n",
       "\n"
      ],
      "text/plain": [
       "  quality count\n",
       "1 3         5  \n",
       "2 4        22  \n",
       "3 5       367  \n",
       "4 6       345  \n",
       "5 7       108  \n",
       "6 8         9  "
      ]
     },
     "metadata": {},
     "output_type": "display_data"
    }
   ],
   "source": [
    "obs_per_class <- wine_train |>\n",
    "    group_by(quality) |>\n",
    "    summarise(count = n())\n",
    "obs_per_class"
   ]
  },
  {
   "cell_type": "markdown",
   "id": "7047fdca-30a4-415c-b387-2f4d6b39777f",
   "metadata": {},
   "source": [
    "## Methods\n",
    "- Explain how you will conduct either your data analysis and which variables/columns you will use\n",
    "- Describe at least one way that you will visualize the results"
   ]
  },
  {
   "cell_type": "markdown",
   "id": "6ce13dc4-a678-4b8a-ab62-d39631764014",
   "metadata": {},
   "source": [
    "## Expected Outcomes and Significance\n",
    "- What do you expect to find?\n",
    "- What impact could such findings have?\n",
    "- What future questions could this lead to?"
   ]
  },
  {
   "cell_type": "markdown",
   "id": "722ac1d9-214b-4a6d-8ec7-09d5cec12aa8",
   "metadata": {},
   "source": [
    "## Sources\n",
    "- https://www.kaggle.com/datasets/yasserh/wine-quality-dataset (dataset)\n",
    "- https://www.mdpi.com/2306-5710/9/2/41 (for intro)"
   ]
  },
  {
   "cell_type": "code",
   "execution_count": null,
   "id": "fa18e843-a784-4848-a556-70edd5383f7c",
   "metadata": {},
   "outputs": [],
   "source": []
  }
 ],
 "metadata": {
  "kernelspec": {
   "display_name": "R",
   "language": "R",
   "name": "ir"
  },
  "language_info": {
   "codemirror_mode": "r",
   "file_extension": ".r",
   "mimetype": "text/x-r-source",
   "name": "R",
   "pygments_lexer": "r",
   "version": "4.3.1"
  }
 },
 "nbformat": 4,
 "nbformat_minor": 5
}
